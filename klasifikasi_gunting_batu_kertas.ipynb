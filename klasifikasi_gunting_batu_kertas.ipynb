{
  "cells": [
    {
      "cell_type": "markdown",
      "metadata": {
        "id": "view-in-github",
        "colab_type": "text"
      },
      "source": [
        "<a href=\"https://colab.research.google.com/github/troupe01/treant/blob/main/klasifikasi_gunting_batu_kertas.ipynb\" target=\"_parent\"><img src=\"https://colab.research.google.com/assets/colab-badge.svg\" alt=\"Open In Colab\"/></a>"
      ]
    },
    {
      "cell_type": "code",
      "execution_count": 122,
      "metadata": {
        "colab": {
          "base_uri": "https://localhost:8080/"
        },
        "id": "xukinrE-UuA1",
        "outputId": "b86620da-b4dc-4694-8bcb-39097c54dc85"
      },
      "outputs": [
        {
          "output_type": "stream",
          "name": "stdout",
          "text": [
            "Drive already mounted at /content/gdrive; to attempt to forcibly remount, call drive.mount(\"/content/gdrive\", force_remount=True).\n"
          ]
        }
      ],
      "source": [
        "import zipfile\n",
        "import os\n",
        "import numpy as np\n",
        "import requests\n",
        "import tensorflow as tf\n",
        "from PIL import Image, ImageOps\n",
        "from google.colab import drive\n",
        "drive.mount('/content/gdrive')\n"
      ]
    },
    {
      "cell_type": "code",
      "execution_count": 123,
      "metadata": {
        "id": "DnJEd9b7Y9pq"
      },
      "outputs": [],
      "source": [
        "dataset_dir = 'dataset'"
      ]
    },
    {
      "cell_type": "code",
      "execution_count": 124,
      "metadata": {
        "id": "JVVpkS9DYI-r"
      },
      "outputs": [],
      "source": [
        "target_file = ('/content/gdrive/MyDrive/archive.zip')\n",
        "extracting = zipfile.ZipFile(target_file, 'r')\n",
        "\n",
        "extracting.extractall(dataset_dir)\n",
        "extracting.close()"
      ]
    },
    {
      "cell_type": "code",
      "execution_count": 125,
      "metadata": {
        "id": "mW2zB1jZaFgt"
      },
      "outputs": [],
      "source": [
        "rock_dir = os.path.join(dataset_dir, 'rock')\n",
        "paper_dir = os.path.join(dataset_dir, 'paper')\n",
        "scissors_dir = os.path.join(dataset_dir, 'scissors')"
      ]
    },
    {
      "cell_type": "code",
      "source": [
        "print(len(os.listdir(rock_dir)))\n",
        "print(len(os.listdir(paper_dir)))\n",
        "print(len(os.listdir(scissors_dir)))"
      ],
      "metadata": {
        "colab": {
          "base_uri": "https://localhost:8080/"
        },
        "id": "bTcyRLMjeIJ4",
        "outputId": "6ba14a08-ca15-43d7-96e9-19da1295786f"
      },
      "execution_count": 126,
      "outputs": [
        {
          "output_type": "stream",
          "name": "stdout",
          "text": [
            "726\n",
            "712\n",
            "750\n"
          ]
        }
      ]
    },
    {
      "cell_type": "code",
      "source": [
        "def imgToArray(filename):\n",
        "  image = Image.open(filename)\n",
        "  image_grayscale = ImageOps.grayscale(image)\n",
        "  image_grayscale = image_grayscale.resize(size = (150, 150))\n",
        "  image_array = np.array(image_grayscale)\n",
        "  image_array = image_array/255\n",
        "\n",
        "  list_full = []\n",
        "  for single_list in image_array:\n",
        "    list_full.extend(single_list)\n",
        "\n",
        "  return np.array(list_full)"
      ],
      "metadata": {
        "id": "j9run8idgzAq"
      },
      "execution_count": 127,
      "outputs": []
    },
    {
      "cell_type": "code",
      "source": [
        "print(os.listdir(rock_dir)[0])"
      ],
      "metadata": {
        "colab": {
          "base_uri": "https://localhost:8080/"
        },
        "id": "QwdYRaKkgvXg",
        "outputId": "12cf1ebc-2288-4d09-ad35-58fb07fd506b"
      },
      "execution_count": 128,
      "outputs": [
        {
          "output_type": "stream",
          "name": "stdout",
          "text": [
            "5uXiqEc4q2Vi0NCX.png\n"
          ]
        }
      ]
    },
    {
      "cell_type": "code",
      "source": [
        "print(imgToArray(os.path.join(rock_dir, '5uXiqEc4q2Vi0NCX.png')))"
      ],
      "metadata": {
        "colab": {
          "base_uri": "https://localhost:8080/"
        },
        "id": "UFGDYf1Khy2v",
        "outputId": "32019ace-5418-41d4-9864-2a8f66b55381"
      },
      "execution_count": 129,
      "outputs": [
        {
          "output_type": "stream",
          "name": "stdout",
          "text": [
            "[0.30980392 0.30980392 0.30196078 ... 0.2627451  0.2627451  0.2627451 ]\n"
          ]
        }
      ]
    },
    {
      "cell_type": "code",
      "source": [
        "data = []\n",
        "label = []\n",
        "for filename in os.listdir(rock_dir):\n",
        "  image_path = os.path.join(rock_dir, filename)\n",
        "  image_array = imgToArray(image_path)\n",
        "  data.append(image_array)\n",
        "  label.append([1, 0, 0])\n",
        "for filename in os.listdir(paper_dir):\n",
        "  image_path = os.path.join(paper_dir, filename)\n",
        "  image_array = imgToArray(image_path)\n",
        "  data.append(image_array)\n",
        "  label.append([0, 0, 1])\n",
        "for filename in os.listdir(scissors_dir):\n",
        "  image_path = os.path.join(scissors_dir, filename)\n",
        "  image_array = imgToArray(image_path)\n",
        "  data.append(image_array)\n",
        "  label.append([0, 1, 0])\n",
        "\n",
        "data = np.array(data)\n",
        "label = np.array(label)\n",
        "\n",
        "print(image_array) \n"
      ],
      "metadata": {
        "colab": {
          "base_uri": "https://localhost:8080/"
        },
        "id": "_KZnzxkAlS4d",
        "outputId": "335bee61-8a6e-4bf4-ada6-8b2a189ec16f"
      },
      "execution_count": 117,
      "outputs": [
        {
          "output_type": "stream",
          "name": "stdout",
          "text": [
            "[0.30980392 0.31764706 0.32156863 ... 0.21960784 0.21176471 0.20392157]\n"
          ]
        }
      ]
    },
    {
      "cell_type": "code",
      "source": [
        "print(data.shape) #menampilkan jumlah gambar, beserta jumlah data yang mewkili\n",
        "print(label.shape) #menampilkan jumlah gambar dan label yang mewkili"
      ],
      "metadata": {
        "colab": {
          "base_uri": "https://localhost:8080/"
        },
        "id": "vuRIt2QvnOK8",
        "outputId": "2c64c1c5-0b82-4748-e1f2-b38e9c15ba6f"
      },
      "execution_count": 118,
      "outputs": [
        {
          "output_type": "stream",
          "name": "stdout",
          "text": [
            "(2188, 22500)\n",
            "(2188, 3)\n"
          ]
        }
      ]
    },
    {
      "cell_type": "code",
      "source": [
        "model = tf.keras.models.Sequential([\n",
        "    tf.keras.layers.Dense(16, input_shape=[22500], activation = 'relu'),\n",
        "    tf.keras.layers.Dense(3, activation='softmax')\n",
        "])\n",
        "\n",
        "model.compile(\n",
        "    metrics = ['acc'],\n",
        "    loss = 'categorical_crossentropy',\n",
        "    optimizer = 'adam'\n",
        ")\n",
        "\n",
        "model.fit(\n",
        "    data,\n",
        "    label,\n",
        "    epochs = 20\n",
        ")"
      ],
      "metadata": {
        "colab": {
          "base_uri": "https://localhost:8080/"
        },
        "id": "dIVjDL4lny-_",
        "outputId": "ebcaafe2-7695-4339-84b1-7f965f907558"
      },
      "execution_count": 130,
      "outputs": [
        {
          "output_type": "stream",
          "name": "stdout",
          "text": [
            "Epoch 1/20\n",
            "69/69 [==============================] - 1s 8ms/step - loss: 1.3005 - acc: 0.3473\n",
            "Epoch 2/20\n",
            "69/69 [==============================] - 1s 8ms/step - loss: 1.0985 - acc: 0.3428\n",
            "Epoch 3/20\n",
            "69/69 [==============================] - 1s 8ms/step - loss: 1.0985 - acc: 0.3428\n",
            "Epoch 4/20\n",
            "69/69 [==============================] - 1s 8ms/step - loss: 1.0985 - acc: 0.3428\n",
            "Epoch 5/20\n",
            "69/69 [==============================] - 1s 8ms/step - loss: 1.0985 - acc: 0.3428\n",
            "Epoch 6/20\n",
            "69/69 [==============================] - 1s 8ms/step - loss: 1.0985 - acc: 0.3428\n",
            "Epoch 7/20\n",
            "69/69 [==============================] - 1s 8ms/step - loss: 1.0985 - acc: 0.3428\n",
            "Epoch 8/20\n",
            "69/69 [==============================] - 1s 8ms/step - loss: 1.0985 - acc: 0.3428\n",
            "Epoch 9/20\n",
            "69/69 [==============================] - 1s 8ms/step - loss: 1.0985 - acc: 0.3428\n",
            "Epoch 10/20\n",
            "69/69 [==============================] - 1s 8ms/step - loss: 1.0984 - acc: 0.3428\n",
            "Epoch 11/20\n",
            "69/69 [==============================] - 1s 8ms/step - loss: 1.0985 - acc: 0.3428\n",
            "Epoch 12/20\n",
            "69/69 [==============================] - 1s 8ms/step - loss: 1.0984 - acc: 0.3428\n",
            "Epoch 13/20\n",
            "69/69 [==============================] - 1s 8ms/step - loss: 1.0985 - acc: 0.3428\n",
            "Epoch 14/20\n",
            "69/69 [==============================] - 1s 12ms/step - loss: 1.0986 - acc: 0.3428\n",
            "Epoch 15/20\n",
            "69/69 [==============================] - 1s 9ms/step - loss: 1.0985 - acc: 0.3428\n",
            "Epoch 16/20\n",
            "69/69 [==============================] - 1s 9ms/step - loss: 1.0984 - acc: 0.3428\n",
            "Epoch 17/20\n",
            "69/69 [==============================] - 1s 9ms/step - loss: 1.0985 - acc: 0.3428\n",
            "Epoch 18/20\n",
            "69/69 [==============================] - 1s 8ms/step - loss: 1.0984 - acc: 0.3428\n",
            "Epoch 19/20\n",
            "69/69 [==============================] - 1s 8ms/step - loss: 1.0984 - acc: 0.3428\n",
            "Epoch 20/20\n",
            "69/69 [==============================] - 1s 9ms/step - loss: 1.0985 - acc: 0.3428\n"
          ]
        },
        {
          "output_type": "execute_result",
          "data": {
            "text/plain": [
              "<keras.callbacks.History at 0x7ff11ad56310>"
            ]
          },
          "metadata": {},
          "execution_count": 130
        }
      ]
    },
    {
      "cell_type": "code",
      "source": [
        "sample_image = 'sample.jpg'\n"
      ],
      "metadata": {
        "id": "-shwR0qUp6sz"
      },
      "execution_count": 119,
      "outputs": []
    },
    {
      "cell_type": "code",
      "source": [
        "sample_image_array = imgToArray(sample_image)"
      ],
      "metadata": {
        "id": "oNtV4f9WspiB"
      },
      "execution_count": 120,
      "outputs": []
    },
    {
      "cell_type": "code",
      "source": [
        "model.predict(np.array([sample_image_array])) "
      ],
      "metadata": {
        "colab": {
          "base_uri": "https://localhost:8080/"
        },
        "id": "7aiHQPzYsC1L",
        "outputId": "d45710ea-a4c3-4937-c04b-9f2d7db02e13"
      },
      "execution_count": 121,
      "outputs": [
        {
          "output_type": "execute_result",
          "data": {
            "text/plain": [
              "array([[0.17752178, 0.5181414 , 0.30433685]], dtype=float32)"
            ]
          },
          "metadata": {},
          "execution_count": 121
        }
      ]
    }
  ],
  "metadata": {
    "colab": {
      "provenance": [],
      "collapsed_sections": [],
      "mount_file_id": "1R7JYunhq0-zF-bc5UyRI5U5TPb5dcJXU",
      "authorship_tag": "ABX9TyOezudCrcXILsvp3mGovt7q",
      "include_colab_link": true
    },
    "kernelspec": {
      "display_name": "Python 3",
      "name": "python3"
    },
    "language_info": {
      "name": "python"
    }
  },
  "nbformat": 4,
  "nbformat_minor": 0
}